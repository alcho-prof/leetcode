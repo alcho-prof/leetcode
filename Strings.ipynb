{
  "nbformat": 4,
  "nbformat_minor": 0,
  "metadata": {
    "colab": {
      "provenance": [],
      "authorship_tag": "ABX9TyOkRkhWtDyq+QHsoMyvhjwA",
      "include_colab_link": true
    },
    "kernelspec": {
      "name": "python3",
      "display_name": "Python 3"
    },
    "language_info": {
      "name": "python"
    }
  },
  "cells": [
    {
      "cell_type": "markdown",
      "metadata": {
        "id": "view-in-github",
        "colab_type": "text"
      },
      "source": [
        "<a href=\"https://colab.research.google.com/github/alcho-prof/leetcode/blob/main/Strings.ipynb\" target=\"_parent\"><img src=\"https://colab.research.google.com/assets/colab-badge.svg\" alt=\"Open In Colab\"/></a>"
      ]
    },
    {
      "cell_type": "markdown",
      "source": [
        "# Palindrome"
      ],
      "metadata": {
        "id": "XsUSC9Q__Pxd"
      }
    },
    {
      "cell_type": "code",
      "source": [
        "print(\"Using String slicing method \")\n",
        "s=input(\"enter the string : \")\n",
        "a=s[::-1]\n",
        "print(\"Palindrome\"  if a==s else \"Not a plaindrome\")"
      ],
      "metadata": {
        "colab": {
          "base_uri": "https://localhost:8080/"
        },
        "id": "8X89KYht_NSP",
        "outputId": "d13db905-c2a2-4bb6-ed95-c9506d19b07c"
      },
      "execution_count": null,
      "outputs": [
        {
          "output_type": "stream",
          "name": "stdout",
          "text": [
            "Using String slicing method \n",
            "enter the string : malayalam\n",
            "Palindrome\n"
          ]
        }
      ]
    },
    {
      "cell_type": "code",
      "source": [
        "print(\"Palindrome using two pointer method\")\n",
        "s=input(\"enter the string : \")\n",
        "a=0\n",
        "b=len(s)-1\n",
        "flag=1\n",
        "while a<b:\n",
        "  if s[a]!=s[b]:\n",
        "    flag=0\n",
        "  a+=1\n",
        "  b-=1\n",
        "print(\"Palindrome\"if flag==1 else \"Not a palindrome\")"
      ],
      "metadata": {
        "colab": {
          "base_uri": "https://localhost:8080/"
        },
        "id": "IPMNbPHOApaS",
        "outputId": "397be087-1014-4003-e8c6-069b9cbb49f2"
      },
      "execution_count": null,
      "outputs": [
        {
          "output_type": "stream",
          "name": "stdout",
          "text": [
            "Palindrome using two pointer method\n",
            "enter the string : sandeep\n",
            "Not a palindrome\n"
          ]
        }
      ]
    },
    {
      "cell_type": "code",
      "source": [
        "s=input(\"enter the number : \")\n",
        "flag=1\n",
        "for i in range(len(s)//2):\n",
        "  if s[i]!=s[len(s)-i-1]:\n",
        "    flag=0\n",
        "print(\"palindrome\"if flag==1 else \"not a palindrome \")\n"
      ],
      "metadata": {
        "colab": {
          "base_uri": "https://localhost:8080/"
        },
        "id": "xyB2RrakELjN",
        "outputId": "d0f8bdef-ac7b-4d92-c474-de2b757e4951"
      },
      "execution_count": null,
      "outputs": [
        {
          "output_type": "stream",
          "name": "stdout",
          "text": [
            "enter the number : anjana\n",
            "not a palindrome \n"
          ]
        }
      ]
    },
    {
      "cell_type": "markdown",
      "source": [
        "# Reversing STring\n"
      ],
      "metadata": {
        "id": "zDuu5pV4MXbW"
      }
    },
    {
      "cell_type": "code",
      "source": [
        "print(\"slicing method\")\n",
        "s=input(\"enter the string : \")\n",
        "a=s[::-1]\n",
        "print(a)"
      ],
      "metadata": {
        "colab": {
          "base_uri": "https://localhost:8080/"
        },
        "id": "g9w7-kIyMXAi",
        "outputId": "90a6adf3-3380-4b17-a089-7f0b3e1b50e5"
      },
      "execution_count": null,
      "outputs": [
        {
          "output_type": "stream",
          "name": "stdout",
          "text": [
            "slicing method\n",
            "enter the string : sandeep is good programmer\n",
            "remmargorp doog si peednas\n"
          ]
        }
      ]
    },
    {
      "cell_type": "code",
      "source": [
        "print(\"using loop\")\n",
        "s=input(\"enter the string : \")\n",
        "res=[]\n",
        "for i in range(len(s)-1,-1,-1):\n",
        "  res.append(s[i])\n",
        "print(\"\".join(res))\n",
        "\n",
        "\n"
      ],
      "metadata": {
        "colab": {
          "base_uri": "https://localhost:8080/"
        },
        "id": "ktJVp7e_MPOa",
        "outputId": "03689fb4-d777-4762-ecf1-5d00c4634cdb"
      },
      "execution_count": null,
      "outputs": [
        {
          "output_type": "stream",
          "name": "stdout",
          "text": [
            "using loop\n",
            "enter the string : welcome to pk praveen blogs\n",
            "sgolb neevarp kp ot emoclew\n"
          ]
        }
      ]
    },
    {
      "cell_type": "code",
      "source": [
        "print(\"Using two pointer method\")\n",
        "s=input(\"enter the string : \")\n",
        "a=0\n",
        "b=len(s)-1\n",
        "s=list(s)\n",
        "while a<b:\n",
        "  s[a],s[b]=s[b],s[a]\n",
        "  a+=1\n",
        "  b-=1\n",
        "print(\"\".join(s))"
      ],
      "metadata": {
        "colab": {
          "base_uri": "https://localhost:8080/"
        },
        "id": "tYotTz9ROnvu",
        "outputId": "406058f5-3fe6-49dc-9f4d-221c78cfec69"
      },
      "execution_count": null,
      "outputs": [
        {
          "output_type": "stream",
          "name": "stdout",
          "text": [
            "Using two pointer method\n",
            "enter the string : i will get placed as a developer\n",
            "repoleved a sa decalp teg lliw i\n"
          ]
        }
      ]
    },
    {
      "cell_type": "code",
      "source": [
        "s = \"gommala\"\n",
        "\n",
        "# Split the string into words, reverse the list of words, and join them back\n",
        "reversed_words = ' '.join(s.split()[::-1])\n",
        "\n",
        "print(reversed_words)"
      ],
      "metadata": {
        "colab": {
          "base_uri": "https://localhost:8080/"
        },
        "id": "Q8E8v6rtPv0b",
        "outputId": "31153183-f4cd-4b62-fe3f-05a744a4c174"
      },
      "execution_count": null,
      "outputs": [
        {
          "output_type": "stream",
          "name": "stdout",
          "text": [
            "gommala\n"
          ]
        }
      ]
    },
    {
      "cell_type": "markdown",
      "source": [
        "# Sub String\n"
      ],
      "metadata": {
        "id": "l6E2uj-omn3Z"
      }
    },
    {
      "cell_type": "markdown",
      "source": [],
      "metadata": {
        "id": "UgkXp6sZml93"
      }
    },
    {
      "cell_type": "code",
      "source": [
        "s=input(\"enter the string : \")\n",
        "n=len(s)\n",
        "a=\" \"\n",
        "for i in range(n):\n",
        "  for j in range(i,n):\n",
        "    a=s[i:j+1]\n",
        "  print(\"\".join(a))"
      ],
      "metadata": {
        "colab": {
          "base_uri": "https://localhost:8080/"
        },
        "id": "f9AwOvN0mvKI",
        "outputId": "d7a2d890-8025-4dd5-d6f7-64cd96d84923"
      },
      "execution_count": null,
      "outputs": [
        {
          "output_type": "stream",
          "name": "stdout",
          "text": [
            "enter the string : sandeep\n",
            "sandeep\n",
            "andeep\n",
            "ndeep\n",
            "deep\n",
            "eep\n",
            "ep\n",
            "p\n"
          ]
        }
      ]
    },
    {
      "cell_type": "code",
      "source": [
        "s=input()\n",
        "sub=[]\n",
        "for i in range(len(s)):\n",
        "  for j in range(i,len(s)):\n",
        "    sub.append(s[i:j+1])\n",
        "print(sub)\n"
      ],
      "metadata": {
        "id": "LhiH_ghVm7x7",
        "colab": {
          "base_uri": "https://localhost:8080/"
        },
        "outputId": "9cfdab88-39b3-4acf-c670-7195f734e0c6"
      },
      "execution_count": null,
      "outputs": [
        {
          "output_type": "stream",
          "name": "stdout",
          "text": [
            "abcabcbb\n",
            "['a', 'ab', 'abc', 'abca', 'abcab', 'abcabc', 'abcabcb', 'abcabcbb', 'b', 'bc', 'bca', 'bcab', 'bcabc', 'bcabcb', 'bcabcbb', 'c', 'ca', 'cab', 'cabc', 'cabcb', 'cabcbb', 'a', 'ab', 'abc', 'abcb', 'abcbb', 'b', 'bc', 'bcb', 'bcbb', 'c', 'cb', 'cbb', 'b', 'bb', 'b']\n"
          ]
        }
      ]
    },
    {
      "cell_type": "code",
      "source": [
        "s=input()\n",
        "sub=[]\n",
        "res=[]\n",
        "for i in range(len(s)):\n",
        "  sub.append(s[i])\n",
        "print(sub)\n",
        "a=set(sub)\n",
        "b=a\n",
        "for i in range(len(a)+1):\n",
        "  for j in range(i,len(a)+1):\n",
        "    res.append(b[i:j])\n",
        "print(res)\n"
      ],
      "metadata": {
        "colab": {
          "base_uri": "https://localhost:8080/",
          "height": 245
        },
        "id": "SyqURgjsgm_k",
        "outputId": "456a047b-16cd-4a1c-b022-277a302a55d2"
      },
      "execution_count": null,
      "outputs": [
        {
          "output_type": "stream",
          "name": "stdout",
          "text": [
            "abababa\n",
            "['a', 'b', 'a', 'b', 'a', 'b', 'a']\n"
          ]
        },
        {
          "output_type": "error",
          "ename": "TypeError",
          "evalue": "'set' object is not subscriptable",
          "traceback": [
            "\u001b[0;31m---------------------------------------------------------------------------\u001b[0m",
            "\u001b[0;31mTypeError\u001b[0m                                 Traceback (most recent call last)",
            "\u001b[0;32m<ipython-input-6-dea73c5d05e3>\u001b[0m in \u001b[0;36m<cell line: 0>\u001b[0;34m()\u001b[0m\n\u001b[1;32m      9\u001b[0m \u001b[0;32mfor\u001b[0m \u001b[0mi\u001b[0m \u001b[0;32min\u001b[0m \u001b[0mrange\u001b[0m\u001b[0;34m(\u001b[0m\u001b[0mlen\u001b[0m\u001b[0;34m(\u001b[0m\u001b[0ma\u001b[0m\u001b[0;34m)\u001b[0m\u001b[0;34m+\u001b[0m\u001b[0;36m1\u001b[0m\u001b[0;34m)\u001b[0m\u001b[0;34m:\u001b[0m\u001b[0;34m\u001b[0m\u001b[0;34m\u001b[0m\u001b[0m\n\u001b[1;32m     10\u001b[0m   \u001b[0;32mfor\u001b[0m \u001b[0mj\u001b[0m \u001b[0;32min\u001b[0m \u001b[0mrange\u001b[0m\u001b[0;34m(\u001b[0m\u001b[0mi\u001b[0m\u001b[0;34m,\u001b[0m\u001b[0mlen\u001b[0m\u001b[0;34m(\u001b[0m\u001b[0ma\u001b[0m\u001b[0;34m)\u001b[0m\u001b[0;34m+\u001b[0m\u001b[0;36m1\u001b[0m\u001b[0;34m)\u001b[0m\u001b[0;34m:\u001b[0m\u001b[0;34m\u001b[0m\u001b[0;34m\u001b[0m\u001b[0m\n\u001b[0;32m---> 11\u001b[0;31m     \u001b[0mres\u001b[0m\u001b[0;34m.\u001b[0m\u001b[0mappend\u001b[0m\u001b[0;34m(\u001b[0m\u001b[0mb\u001b[0m\u001b[0;34m[\u001b[0m\u001b[0mi\u001b[0m\u001b[0;34m:\u001b[0m\u001b[0mj\u001b[0m\u001b[0;34m]\u001b[0m\u001b[0;34m)\u001b[0m\u001b[0;34m\u001b[0m\u001b[0;34m\u001b[0m\u001b[0m\n\u001b[0m\u001b[1;32m     12\u001b[0m \u001b[0mprint\u001b[0m\u001b[0;34m(\u001b[0m\u001b[0mres\u001b[0m\u001b[0;34m)\u001b[0m\u001b[0;34m\u001b[0m\u001b[0;34m\u001b[0m\u001b[0m\n\u001b[1;32m     13\u001b[0m \u001b[0;34m\u001b[0m\u001b[0m\n",
            "\u001b[0;31mTypeError\u001b[0m: 'set' object is not subscriptable"
          ]
        }
      ]
    },
    {
      "cell_type": "code",
      "source": [
        "s=\"abc\"\n",
        "for i in range(len(s)):\n",
        "  for j in range(i,len(s)):\n",
        "    a=s[i:j+1]\n",
        "    print(a)"
      ],
      "metadata": {
        "id": "aFMXiowuisNj",
        "colab": {
          "base_uri": "https://localhost:8080/"
        },
        "outputId": "80c6913c-e77e-4d41-c0ad-aeb840aaef84"
      },
      "execution_count": null,
      "outputs": [
        {
          "output_type": "stream",
          "name": "stdout",
          "text": [
            "a\n",
            "ab\n",
            "abc\n",
            "b\n",
            "bc\n",
            "c\n"
          ]
        }
      ]
    },
    {
      "cell_type": "code",
      "source": [],
      "metadata": {
        "id": "PeekGUUAmqAW"
      },
      "execution_count": null,
      "outputs": []
    }
  ]
}